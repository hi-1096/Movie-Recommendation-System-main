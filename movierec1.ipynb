{
 "cells": [
  {
   "cell_type": "code",
   "execution_count": 184,
   "metadata": {
    "id": "QLV3efzymiST"
   },
   "outputs": [],
   "source": [
    "#import numpy as np\n",
    "#import matplotlib.pyplot as plt\n",
    "#from ipywidgets import interactive\n",
    "#%matplotlib inline\n"
   ]
  },
  {
   "cell_type": "code",
   "execution_count": 185,
   "metadata": {
    "colab": {
     "base_uri": "https://localhost:8080/"
    },
    "id": "0E78qYNUT-Ij",
    "outputId": "c71efcef-71c0-4c20-b80f-d58b110d144e"
   },
   "outputs": [],
   "source": [
    "#from google.colab import drive\n",
    "#drive.mount('/content/drive')"
   ]
  },
  {
   "cell_type": "code",
   "execution_count": 186,
   "metadata": {
    "colab": {
     "base_uri": "https://localhost:8080/"
    },
    "id": "k3_jWX0A5qG6",
    "outputId": "549b4df5-e612-441f-a0fa-b620e8287914"
   },
   "outputs": [],
   "source": [
    "!pip install streamlit -q"
   ]
  },
  {
   "cell_type": "code",
   "execution_count": 187,
   "metadata": {
    "id": "v_UD_Huw50oq"
   },
   "outputs": [],
   "source": [
    "import streamlit as sl"
   ]
  },
  {
   "cell_type": "code",
   "execution_count": 187,
   "metadata": {
    "id": "vxXvV-uh6bvz"
   },
   "outputs": [],
   "source": []
  },
  {
   "cell_type": "code",
   "execution_count": 188,
   "metadata": {
    "id": "gZr202Ernb3n"
   },
   "outputs": [],
   "source": [
    "\n",
    "import pandas as pd\n",
    "import numpy as np\n",
    "import csv"
   ]
  },
  {
   "cell_type": "code",
   "execution_count": 189,
   "metadata": {
    "id": "_EB_Z2btndka"
   },
   "outputs": [],
   "source": [
    "\n",
    "movies=pd.read_csv(\"movie.csv\")"
   ]
  },
  {
   "cell_type": "code",
   "execution_count": 190,
   "metadata": {
    "colab": {
     "base_uri": "https://localhost:8080/",
     "height": 1000
    },
    "id": "I4XZtQ-TneSk",
    "outputId": "56362dc3-6afb-4992-d94c-6444be0311b5"
   },
   "outputs": [],
   "source": [
    "movies.head(50)"
   ]
  },
  {
   "cell_type": "code",
   "execution_count": 191,
   "metadata": {
    "colab": {
     "base_uri": "https://localhost:8080/",
     "height": 174
    },
    "id": "o4Jm6VqDnezO",
    "outputId": "6e2ee443-e77a-4708-c985-bff86e992fa6"
   },
   "outputs": [],
   "source": [
    "movies.rename(columns = {'id':'movie_id'}, inplace = True)\n",
    "movies[\"keywords\"][0]"
   ]
  },
  {
   "cell_type": "code",
   "execution_count": 192,
   "metadata": {
    "colab": {
     "base_uri": "https://localhost:8080/",
     "height": 36
    },
    "id": "q0LjJ07FnfS6",
    "outputId": "ff0ece4b-f230-49cd-dadf-c347f9ee99fc"
   },
   "outputs": [],
   "source": [
    "\n",
    "movies[\"tagline\"][0]"
   ]
  },
  {
   "cell_type": "code",
   "execution_count": 193,
   "metadata": {
    "colab": {
     "base_uri": "https://localhost:8080/",
     "height": 70
    },
    "id": "yk9dTdHqpzQQ",
    "outputId": "7f2cdcb4-1539-40d4-fb1c-f91fee90fdb9"
   },
   "outputs": [],
   "source": [
    "movies[\"overview\"][0]"
   ]
  },
  {
   "cell_type": "code",
   "execution_count": 194,
   "metadata": {
    "id": "1YfA-0p1p7yH"
   },
   "outputs": [],
   "source": [
    "df2=pd.read_csv(\"movie_credit.csv\")"
   ]
  },
  {
   "cell_type": "code",
   "execution_count": 195,
   "metadata": {
    "colab": {
     "base_uri": "https://localhost:8080/",
     "height": 423
    },
    "id": "06KKpkDoqMcA",
    "outputId": "5796882c-7778-4f85-fcf4-0c18785180ee"
   },
   "outputs": [],
   "source": [
    "df2.head()"
   ]
  },
  {
   "cell_type": "code",
   "execution_count": 196,
   "metadata": {
    "colab": {
     "base_uri": "https://localhost:8080/"
    },
    "id": "KaH8OrhjqQ61",
    "outputId": "828fb943-a01d-49e6-b9d7-d85df66982b5"
   },
   "outputs": [],
   "source": [
    "\n",
    "df2[\"cast\"]"
   ]
  },
  {
   "cell_type": "code",
   "execution_count": 197,
   "metadata": {
    "id": "1MYZXUd2qXNU"
   },
   "outputs": [],
   "source": [
    "movies=movies.merge(df2,on=\"title\")"
   ]
  },
  {
   "cell_type": "code",
   "execution_count": 198,
   "metadata": {
    "colab": {
     "base_uri": "https://localhost:8080/"
    },
    "id": "AviXGG0TqkFa",
    "outputId": "e2d7522f-5c94-4615-d8e9-d95bf0f35a27"
   },
   "outputs": [],
   "source": [
    "\n",
    "movies.info()"
   ]
  },
  {
   "cell_type": "code",
   "execution_count": 199,
   "metadata": {
    "id": "pfivPuhpqmXE"
   },
   "outputs": [],
   "source": [
    "import ast\n",
    "def str_list(x):\n",
    "  x=ast.literal_eval(x)\n",
    "  l=[]\n",
    "  for item in x:\n",
    "\n",
    "    l.append(item['name'])\n",
    "\n",
    "  return l"
   ]
  },
  {
   "cell_type": "code",
   "execution_count": 200,
   "metadata": {
    "id": "2uSJp_iQqvX_"
   },
   "outputs": [],
   "source": [
    "movies[\"cast\"]=movies[\"cast\"].apply(str_list)"
   ]
  },
  {
   "cell_type": "code",
   "execution_count": 201,
   "metadata": {
    "id": "kHFsNA_qq0nq"
   },
   "outputs": [],
   "source": [
    "import ast\n",
    "def str2_list(x):\n",
    "  x=ast.literal_eval(x)\n",
    "  l=[]\n",
    "  for item in x:\n",
    "    if item['job']==\"Director\":\n",
    "      l.append(item['name'])\n",
    "\n",
    "  return l"
   ]
  },
  {
   "cell_type": "code",
   "execution_count": 202,
   "metadata": {
    "id": "KcL8QZKzq5rX"
   },
   "outputs": [],
   "source": [
    "movies[\"crew\"]=movies[\"crew\"].apply(str2_list)"
   ]
  },
  {
   "cell_type": "code",
   "execution_count": 203,
   "metadata": {
    "colab": {
     "base_uri": "https://localhost:8080/"
    },
    "id": "2cpUCA4Jq6M8",
    "outputId": "2a870ad3-a36a-4773-f8b5-b1f7463ea04d"
   },
   "outputs": [],
   "source": [
    "movies[\"cast\"]"
   ]
  },
  {
   "cell_type": "code",
   "execution_count": 204,
   "metadata": {
    "colab": {
     "base_uri": "https://localhost:8080/"
    },
    "id": "FzYEZmV0q6pR",
    "outputId": "2cb217e1-12ed-40bc-dd2c-4c54c5577dfe"
   },
   "outputs": [],
   "source": [
    "movies[\"crew\"]"
   ]
  },
  {
   "cell_type": "code",
   "execution_count": 205,
   "metadata": {
    "id": "BDz6KkshrTUB"
   },
   "outputs": [],
   "source": [
    "movies[\"genres\"]=movies['genres'].apply(str_list)\n",
    "movies[\"keywords\"]=movies['keywords'].apply(str_list)"
   ]
  },
  {
   "cell_type": "code",
   "execution_count": 206,
   "metadata": {
    "colab": {
     "base_uri": "https://localhost:8080/"
    },
    "id": "QiPgUjk0rT1z",
    "outputId": "345eaca8-af22-480d-ebaa-175844e7455d"
   },
   "outputs": [],
   "source": [
    "movies.isna().sum()"
   ]
  },
  {
   "cell_type": "code",
   "execution_count": 207,
   "metadata": {
    "colab": {
     "base_uri": "https://localhost:8080/",
     "height": 750
    },
    "id": "56zbbCv_rUe5",
    "outputId": "de88e316-4372-4e68-d6a3-71c4e18b8934"
   },
   "outputs": [],
   "source": [
    "movies.sample(5)"
   ]
  },
  {
   "cell_type": "code",
   "execution_count": 208,
   "metadata": {
    "id": "UkZzXviSrVHt"
   },
   "outputs": [],
   "source": [
    "# removing space\n",
    "def _join(x):\n",
    "  l=[]\n",
    "  for i in x:\n",
    "    l.append(i.replace(\" \",\"\"))\n",
    "  return l\n"
   ]
  },
  {
   "cell_type": "markdown",
   "metadata": {
    "id": "EDWeX4z6rrm4"
   },
   "source": []
  },
  {
   "cell_type": "code",
   "execution_count": 209,
   "metadata": {
    "id": "xILa6C2artU_"
   },
   "outputs": [],
   "source": [
    "movies[\"cast\"]=movies[\"cast\"].apply(_join)"
   ]
  },
  {
   "cell_type": "code",
   "execution_count": 210,
   "metadata": {
    "id": "Ou-JtdNbruPc"
   },
   "outputs": [],
   "source": [
    "movies[\"cast\"]=movies[\"cast\"].apply(lambda i:i[0:3])"
   ]
  },
  {
   "cell_type": "code",
   "execution_count": 211,
   "metadata": {
    "colab": {
     "base_uri": "https://localhost:8080/"
    },
    "id": "XYpHK__eruvR",
    "outputId": "35ac64ed-89ec-4e5f-ccd3-52d2d2c82863"
   },
   "outputs": [],
   "source": [
    "movies[\"cast\"]\n"
   ]
  },
  {
   "cell_type": "code",
   "execution_count": 212,
   "metadata": {
    "id": "rHaZoFptrvV4"
   },
   "outputs": [],
   "source": [
    "new_df=pd.DataFrame(movies,columns=['id','homepage','title','cast','crew','overview','genres','keywords'])"
   ]
  },
  {
   "cell_type": "code",
   "execution_count": 213,
   "metadata": {
    "colab": {
     "base_uri": "https://localhost:8080/",
     "height": 773
    },
    "id": "DhlQLF1Grv6T",
    "outputId": "ddf19baf-5d77-41e0-bdde-b36ac9f5b969"
   },
   "outputs": [],
   "source": [
    "\n",
    "new_df.head(5)"
   ]
  },
  {
   "cell_type": "code",
   "execution_count": 214,
   "metadata": {
    "id": "46qc4sTrrwTa"
   },
   "outputs": [],
   "source": [
    "new_df['crew']=new_df['crew'].apply(_join)"
   ]
  },
  {
   "cell_type": "code",
   "execution_count": 215,
   "metadata": {
    "colab": {
     "base_uri": "https://localhost:8080/",
     "height": 773
    },
    "id": "1qMnK4XjrxD4",
    "outputId": "e356c58c-aa9f-4c0e-9f62-4ee8a2ffd8a5"
   },
   "outputs": [],
   "source": [
    "\n",
    "new_df.head()"
   ]
  },
  {
   "cell_type": "code",
   "execution_count": 216,
   "metadata": {
    "colab": {
     "base_uri": "https://localhost:8080/"
    },
    "id": "8gJtOcmdrxrP",
    "outputId": "4b48cc27-679b-452c-ab1e-adc6cefa2125"
   },
   "outputs": [],
   "source": [
    "new_df.isna().sum()"
   ]
  },
  {
   "cell_type": "markdown",
   "metadata": {
    "id": "ThN9x3Xosb6B"
   },
   "source": []
  },
  {
   "cell_type": "code",
   "execution_count": 217,
   "metadata": {
    "id": "QsbHfxOxscix"
   },
   "outputs": [],
   "source": [
    "\n",
    "new_df[\"homepage\"]=new_df[\"homepage\"].fillna(0)"
   ]
  },
  {
   "cell_type": "code",
   "execution_count": 218,
   "metadata": {
    "colab": {
     "base_uri": "https://localhost:8080/"
    },
    "id": "ciEQ_e5xsdBv",
    "outputId": "9928cd98-eacf-4de5-8e2b-ddd488853627"
   },
   "outputs": [],
   "source": [
    "url=list(enumerate(new_df[\"homepage\"]))\n",
    "new_df[\"urls\"]=0\n",
    "for i in range(len(url)):\n",
    "  if new_df[\"homepage\"][i]==0:\n",
    "\n",
    "    x=(\"{}/{}\".format(\"https://www.\",str(\"\".join(list(new_df[\"title\"][url[i][0]].split())))))\n",
    "\n",
    "    new_df[\"urls\"][i]=x\n",
    "  else:\n",
    "    new_df[\"urls\"][i]=new_df[\"homepage\"][i]"
   ]
  },
  {
   "cell_type": "code",
   "execution_count": 219,
   "metadata": {
    "colab": {
     "base_uri": "https://localhost:8080/"
    },
    "id": "30UgorpUsdyC",
    "outputId": "336fc79e-d077-4aae-99d2-7193bde9da88"
   },
   "outputs": [],
   "source": [
    "\n",
    "\n",
    "# def link(url,i):\n",
    "#   s=url\n",
    "#   x=\"{} + {}\".format(\"https://www.\",str(new_df.iloc[[url[i][0]]].title))\n",
    "#   iF s is \"link\"\n",
    "#     return x\n",
    "#   else:\n",
    "#     return s\n",
    "# # new_df[new_df[\"homepage\"].fillna(\"{} + {}\".format(\"https://www.\",new_df[\"title\"]]))\n",
    "new_df[\"urls\"]"
   ]
  },
  {
   "cell_type": "code",
   "execution_count": 220,
   "metadata": {
    "colab": {
     "base_uri": "https://localhost:8080/",
     "height": 600
    },
    "id": "oWCVkh7xseSj",
    "outputId": "4b3f8201-1731-4272-80a2-7021b906f831"
   },
   "outputs": [],
   "source": [
    "# new_df.iloc[[0]].title\n",
    "new_df.sample(5)"
   ]
  },
  {
   "cell_type": "code",
   "execution_count": 221,
   "metadata": {
    "id": "illVaL_bsejM"
   },
   "outputs": [],
   "source": [
    "# to convert string into list of strings\n",
    "def spliting(text):\n",
    "  text=str(text).split()\n",
    "  return text"
   ]
  },
  {
   "cell_type": "code",
   "execution_count": 222,
   "metadata": {
    "id": "pczAnTfesezF"
   },
   "outputs": [],
   "source": [
    "\n",
    "new_df['overview']=new_df['overview'].apply(spliting)"
   ]
  },
  {
   "cell_type": "code",
   "execution_count": 223,
   "metadata": {
    "id": "6UzDfKy3sfA3"
   },
   "outputs": [],
   "source": [
    "\n",
    "new_df['all_tags']=new_df['overview'] + new_df['genres'] + new_df['keywords'] + new_df['cast'] + new_df['crew']"
   ]
  },
  {
   "cell_type": "code",
   "execution_count": 224,
   "metadata": {
    "id": "oddPPK-SsfPq"
   },
   "outputs": [],
   "source": [
    "\n",
    "new_df.drop(columns=['overview','genres' ,'keywords','cast' , 'crew','homepage'],inplace=True)\n"
   ]
  },
  {
   "cell_type": "code",
   "execution_count": 225,
   "metadata": {
    "colab": {
     "base_uri": "https://localhost:8080/",
     "height": 406
    },
    "id": "8LIUMoT6tLP3",
    "outputId": "ee3c45c8-b896-4453-cc04-3833f30dbb7c"
   },
   "outputs": [],
   "source": [
    "\n",
    "new_df.head()"
   ]
  },
  {
   "cell_type": "code",
   "execution_count": 226,
   "metadata": {
    "id": "d32tl7e3tMPo"
   },
   "outputs": [],
   "source": [
    "\n",
    "#converting all tags in lower case and deletion similarities"
   ]
  },
  {
   "cell_type": "code",
   "execution_count": 227,
   "metadata": {
    "id": "ysT26y5RtMfk"
   },
   "outputs": [],
   "source": [
    "def convert_lower(text):\n",
    "  l=[]\n",
    "  for item in text:\n",
    "    l.append(item.lower())\n",
    "  return l"
   ]
  },
  {
   "cell_type": "code",
   "execution_count": 228,
   "metadata": {
    "id": "VL0lwAs0tMsd"
   },
   "outputs": [],
   "source": [
    "new_df['all_tags']=new_df['all_tags'].apply(convert_lower)"
   ]
  },
  {
   "cell_type": "code",
   "execution_count": 229,
   "metadata": {
    "colab": {
     "base_uri": "https://localhost:8080/",
     "height": 406
    },
    "id": "RIxRQ57ytM5u",
    "outputId": "a480c530-21ed-4be3-9e99-8e2d3e9ceee3"
   },
   "outputs": [],
   "source": [
    "\n",
    "new_df.head()"
   ]
  },
  {
   "cell_type": "code",
   "execution_count": 229,
   "metadata": {
    "id": "qJRDASi9tpYu"
   },
   "outputs": [],
   "source": []
  },
  {
   "cell_type": "code",
   "execution_count": 229,
   "metadata": {
    "colab": {
     "base_uri": "https://localhost:8080/"
    },
    "id": "cIX1kBSWsffS",
    "outputId": "10b555bc-0a29-471d-e8dd-d43c2ea56f98"
   },
   "outputs": [],
   "source": []
  },
  {
   "cell_type": "code",
   "execution_count": 230,
   "metadata": {
    "id": "rthaDGbGsfvm"
   },
   "outputs": [],
   "source": [
    "import nltk\n",
    "from nltk.stem.porter import PorterStemmer\n",
    "ps=PorterStemmer()\n",
    "def steming(text):\n",
    "  l=[]\n",
    "  for i in text:\n",
    "\n",
    "    l.append(ps.stem(i))\n",
    "  return l"
   ]
  },
  {
   "cell_type": "code",
   "execution_count": 230,
   "metadata": {
    "id": "h3WAiidWtqTc"
   },
   "outputs": [],
   "source": []
  },
  {
   "cell_type": "code",
   "execution_count": 231,
   "metadata": {
    "id": "2xvs3KCKtqh0"
   },
   "outputs": [],
   "source": [
    "new_df['all_tags']=new_df['all_tags'].apply(steming)"
   ]
  },
  {
   "cell_type": "code",
   "execution_count": 232,
   "metadata": {
    "colab": {
     "base_uri": "https://localhost:8080/",
     "height": 423
    },
    "id": "_1-RGkzRtqsg",
    "outputId": "59a3827a-16ee-4dc7-cad6-0c6805fb9e64"
   },
   "outputs": [],
   "source": [
    "new_df.sample(5)"
   ]
  },
  {
   "cell_type": "code",
   "execution_count": 233,
   "metadata": {
    "id": "zUaKZvEstrC3"
   },
   "outputs": [],
   "source": [
    "new_df[\"all_tags\"]=new_df[\"all_tags\"].apply(_join)"
   ]
  },
  {
   "cell_type": "code",
   "execution_count": 234,
   "metadata": {
    "id": "QcAG9RC7uA36"
   },
   "outputs": [],
   "source": [
    "new_df['all_tags'] = new_df['all_tags'].apply(lambda x: \" \".join(x))"
   ]
  },
  {
   "cell_type": "code",
   "execution_count": 235,
   "metadata": {
    "id": "3Jgc8w5HuCQW"
   },
   "outputs": [],
   "source": [
    "\n",
    "from sklearn.feature_extraction.text import CountVectorizer\n",
    "cv = CountVectorizer(stop_words='english')"
   ]
  },
  {
   "cell_type": "code",
   "execution_count": 236,
   "metadata": {
    "colab": {
     "base_uri": "https://localhost:8080/"
    },
    "id": "uWOAIn8HuC0E",
    "outputId": "07521822-c47a-403e-d781-0a4ff6f49932"
   },
   "outputs": [],
   "source": [
    "data = cv.fit_transform(new_df['all_tags']).toarray()\n",
    "data"
   ]
  },
  {
   "cell_type": "code",
   "execution_count": 237,
   "metadata": {
    "colab": {
     "base_uri": "https://localhost:8080/"
    },
    "id": "ct9a8OGNuDAf",
    "outputId": "0d9ed006-ed9d-4545-bf7c-fe0f523e407d"
   },
   "outputs": [],
   "source": [
    "from sklearn.metrics.pairwise import cosine_similarity\n",
    "similarity = cosine_similarity(data)\n",
    "similarity"
   ]
  },
  {
   "cell_type": "code",
   "execution_count": 238,
   "metadata": {
    "id": "J-cJkcEyuDOy"
   },
   "outputs": [],
   "source": [
    "def movie_recommend(movie):\n",
    "    index = new_df[new_df['title'] == movie].index[0]\n",
    "    distances = sorted(list(enumerate(similarity[index])),reverse=True,key = lambda x: x[1])\n",
    "    for i in distances[1:8]:\n",
    "\n",
    "\n",
    "      print(\"{} {}\".format(new_df.iloc[i[0]].title,new_df.iloc[i[0]].urls))"
   ]
  },
  {
   "cell_type": "code",
   "execution_count": 239,
   "metadata": {
    "colab": {
     "base_uri": "https://localhost:8080/"
    },
    "id": "4W7Zm0oKuDbR",
    "outputId": "1a7477ce-fd56-4797-c415-6646823d485a"
   },
   "outputs": [],
   "source": [
    "movie_recommend(\"Avatar\")"
   ]
  },
  {
   "cell_type": "code",
   "execution_count": 240,
   "metadata": {
    "colab": {
     "base_uri": "https://localhost:8080/"
    },
    "id": "k5Yct7lIulAY",
    "outputId": "5aafaea4-ecb3-4fa3-c5e4-43ad2f3c13cf"
   },
   "outputs": [],
   "source": [
    "movie_recommend(\"Batman\")"
   ]
  },
  {
   "cell_type": "code",
   "execution_count": 241,
   "metadata": {
    "colab": {
     "base_uri": "https://localhost:8080/"
    },
    "id": "l7YQGgDlumAe",
    "outputId": "d84f032c-b835-4317-da71-5b8486473209"
   },
   "outputs": [],
   "source": [
    "movie_recommend(\"2016: Obama's America\")"
   ]
  },
  {
   "cell_type": "code",
   "execution_count": 242,
   "metadata": {
    "colab": {
     "base_uri": "https://localhost:8080/"
    },
    "id": "t_OWarjHKOMC",
    "outputId": "cee87e74-986d-4d21-a242-44533ea1cb61"
   },
   "outputs": [],
   "source": [
    "movie_recommend(\"Iron Man\")"
   ]
  },
  {
   "cell_type": "code",
   "execution_count": 243,
   "metadata": {
    "id": "Y3tBYbw-umNm"
   },
   "outputs": [],
   "source": [
    "import pickle"
   ]
  },
  {
   "cell_type": "code",
   "execution_count": 244,
   "metadata": {
    "id": "95EBMH2cumat"
   },
   "outputs": [],
   "source": [
    "\n",
    "pickle.dump(new_df.to_dict,open(\"movie_recm.pkl\",\"wb\"))\n",
    "pickle.dump(similarity,open(\"similarity.pkl\",\"wb\"))"
   ]
  },
  {
   "cell_type": "code",
   "execution_count": 245,
   "metadata": {
    "colab": {
     "base_uri": "https://localhost:8080/"
    },
    "id": "sL9p9zW2umm_",
    "outputId": "9ce55a84-479f-4821-d0d2-4f2eac0343b5"
   },
   "outputs": [],
   "source": [
    "\n",
    "np.array(new_df[\"title\"])"
   ]
  },
  {
   "cell_type": "code",
   "execution_count": 246,
   "metadata": {
    "colab": {
     "base_uri": "https://localhost:8080/"
    },
    "id": "qp0P_fqQ5CVh",
    "outputId": "433b113e-69fb-4b1b-8d96-22d716b52f04"
   },
   "outputs": [],
   "source": [
    "#!pip install pyngrok"
   ]
  },
  {
   "cell_type": "code",
   "execution_count": 247,
   "metadata": {
    "colab": {
     "base_uri": "https://localhost:8080/"
    },
    "id": "a3GopnezumzV",
    "outputId": "5294cd4a-bf69-4b17-e1e6-53f843c028f0"
   },
   "outputs": [],
   "source": [
    "#!streamlit run app.py & npx localtunnel --port[80]"
   ]
  },
  {
   "cell_type": "code",
   "execution_count": 247,
   "metadata": {
    "colab": {
     "base_uri": "https://localhost:8080/"
    },
    "id": "4mnKZQi55jlS",
    "outputId": "a2fdf409-5a8c-4f83-bc81-921519ef5677"
   },
   "outputs": [],
   "source": []
  }
 ],
 "metadata": {
  "colab": {
   "provenance": []
  },
  "kernelspec": {
   "display_name": "Python 3 (ipykernel)",
   "language": "python",
   "name": "python3"
  },
  "language_info": {
   "codemirror_mode": {
    "name": "ipython",
    "version": 3
   },
   "file_extension": ".py",
   "mimetype": "text/x-python",
   "name": "python",
   "nbconvert_exporter": "python",
   "pygments_lexer": "ipython3",
   "version": "3.11.4"
  }
 },
 "nbformat": 4,
 "nbformat_minor": 1
}
